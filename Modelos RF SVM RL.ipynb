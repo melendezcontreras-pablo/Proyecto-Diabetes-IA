{
 "cells": [
  {
   "cell_type": "code",
   "execution_count": 3,
   "id": "44b31bf3-3900-4b5c-a75a-f3f7e076ab38",
   "metadata": {},
   "outputs": [
    {
     "name": "stdout",
     "output_type": "stream",
     "text": [
      "Precisión Random Forest: 0.72\n",
      "Precisión SVM: 0.76\n",
      "Precisión Regresión Logística: 0.75\n",
      "Modelos y escalador guardados correctamente.\n"
     ]
    }
   ],
   "source": [
    "import pandas as pd\n",
    "import numpy as np\n",
    "import pickle\n",
    "from sklearn.model_selection import train_test_split\n",
    "from sklearn.preprocessing import StandardScaler\n",
    "from sklearn.ensemble import RandomForestClassifier\n",
    "from sklearn.svm import SVC\n",
    "from sklearn.linear_model import LogisticRegression\n",
    "from sklearn.metrics import accuracy_score\n",
    "\n",
    "# Cargar dataset\n",
    "data = pd.read_csv('diabetes.csv')\n",
    "\n",
    "# Separar características y variable objetivo\n",
    "X = data.drop(columns=['Outcome'])\n",
    "y = data['Outcome']\n",
    "\n",
    "# Dividir en conjunto de entrenamiento y prueba\n",
    "X_train, X_test, y_train, y_test = train_test_split(X, y, test_size=0.2, random_state=42)\n",
    "\n",
    "# Normalizar los datos\n",
    "scaler = StandardScaler()\n",
    "X_train_scaled = scaler.fit_transform(X_train)\n",
    "X_test_scaled = scaler.transform(X_test)\n",
    "\n",
    "# Entrenar modelo Random Forest\n",
    "rf_model = RandomForestClassifier(n_estimators=100, random_state=42)\n",
    "rf_model.fit(X_train_scaled, y_train)\n",
    "\n",
    "# Entrenar modelo SVM\n",
    "svm_model = SVC(kernel='linear', probability=True, random_state=42)\n",
    "svm_model.fit(X_train_scaled, y_train)\n",
    "\n",
    "# Entrenar modelo Regresión Logística\n",
    "lr_model = LogisticRegression(random_state=42)\n",
    "lr_model.fit(X_train_scaled, y_train)\n",
    "\n",
    "# Evaluar modelos\n",
    "y_pred_rf = rf_model.predict(X_test_scaled)\n",
    "y_pred_svm = svm_model.predict(X_test_scaled)\n",
    "y_pred_lr = lr_model.predict(X_test_scaled)\n",
    "\n",
    "accuracy_rf = accuracy_score(y_test, y_pred_rf)\n",
    "accuracy_svm = accuracy_score(y_test, y_pred_svm)\n",
    "accuracy_lr = accuracy_score(y_test, y_pred_lr)\n",
    "\n",
    "print(f'Precisión Random Forest: {accuracy_rf:.2f}')\n",
    "print(f'Precisión SVM: {accuracy_svm:.2f}')\n",
    "print(f'Precisión Regresión Logística: {accuracy_lr:.2f}')\n",
    "\n",
    "#Guardar modelos y escalador\n",
    "with open('model_rf.pkl', 'wb') as rf_file:\n",
    "    pickle.dump(rf_model, rf_file)\n",
    "\n",
    "with open('model_svm.pkl', 'wb') as svm_file:\n",
    "    pickle.dump(svm_model, svm_file)\n",
    "\n",
    "with open('model_lr.pkl', 'wb') as lr_file:\n",
    "    pickle.dump(lr_model, lr_file)\n",
    "\n",
    "with open('scaler.pkl', 'wb') as scaler_file:\n",
    "    pickle.dump(scaler, scaler_file)\n",
    "\n",
    "print(\"Modelos y escalador guardados correctamente.\")"
   ]
  },
  {
   "cell_type": "code",
   "execution_count": null,
   "id": "9ad8d44e-7388-4305-9d8e-e2b947093983",
   "metadata": {},
   "outputs": [],
   "source": []
  }
 ],
 "metadata": {
  "kernelspec": {
   "display_name": "Python 3 (ipykernel)",
   "language": "python",
   "name": "python3"
  },
  "language_info": {
   "codemirror_mode": {
    "name": "ipython",
    "version": 3
   },
   "file_extension": ".py",
   "mimetype": "text/x-python",
   "name": "python",
   "nbconvert_exporter": "python",
   "pygments_lexer": "ipython3",
   "version": "3.12.7"
  }
 },
 "nbformat": 4,
 "nbformat_minor": 5
}
